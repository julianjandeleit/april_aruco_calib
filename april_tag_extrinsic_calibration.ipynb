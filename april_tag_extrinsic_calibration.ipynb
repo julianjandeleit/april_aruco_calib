{
 "cells": [
  {
   "cell_type": "code",
   "execution_count": 3,
   "metadata": {},
   "outputs": [
    {
     "name": "stdout",
     "output_type": "stream",
     "text": [
      "ARUCO_DICT=0\n"
     ]
    }
   ],
   "source": [
    "import os\n",
    "import numpy as np\n",
    "import cv2\n",
    "import json \n",
    "\n",
    "# ------------------------------\n",
    "# ENTER YOUR REQUIREMENTS HERE:\n",
    "ARUCO_DICT = cv2.aruco.DICT_4X4_50\n",
    "SQUARES_VERTICALLY = 5\n",
    "SQUARES_HORIZONTALLY = 7\n",
    "#SQUARE_LENGTH = 0.03  # in meters\n",
    "#MARKER_LENGTH = 0.015  # in meters\n",
    "SQUARE_LENGTH = 0.055 # in meters\n",
    "MARKER_LENGTH = 0.04  # in meters\n",
    "# ...\n",
    "PATH_TO_YOUR_IMAGES = 'testdata/charuco_calib_set_1/'\n",
    "print(f\"{ARUCO_DICT=}\")\n",
    "# ------------------------------\n",
    "\n",
    "json_file_path = './calibration.json'\n",
    "\n",
    "with open(json_file_path, 'r') as file: # Read the JSON file\n",
    "    json_data = json.load(file)\n",
    "\n",
    "mtx = np.array(json_data['mtx'])\n",
    "dst = np.array(json_data['dist'])\n",
    "\n",
    "dictionary = cv2.aruco.getPredefinedDictionary(ARUCO_DICT)\n",
    "board = cv2.aruco.CharucoBoard((SQUARES_VERTICALLY, SQUARES_HORIZONTALLY), SQUARE_LENGTH, MARKER_LENGTH, dictionary)\n",
    "params = cv2.aruco.DetectorParameters()\n",
    "detector = cv2.aruco.ArucoDetector(dictionary, params)"
   ]
  },
  {
   "cell_type": "code",
   "execution_count": null,
   "metadata": {},
   "outputs": [],
   "source": []
  }
 ],
 "metadata": {
  "kernelspec": {
   "display_name": "tagcalib",
   "language": "python",
   "name": "python3"
  },
  "language_info": {
   "codemirror_mode": {
    "name": "ipython",
    "version": 3
   },
   "file_extension": ".py",
   "mimetype": "text/x-python",
   "name": "python",
   "nbconvert_exporter": "python",
   "pygments_lexer": "ipython3",
   "version": "3.12.6"
  }
 },
 "nbformat": 4,
 "nbformat_minor": 2
}
